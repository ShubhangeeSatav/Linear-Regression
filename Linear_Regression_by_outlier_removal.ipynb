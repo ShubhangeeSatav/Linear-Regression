{
 "cells": [
  {
   "cell_type": "markdown",
   "id": "f8efd4a3",
   "metadata": {},
   "source": [
    "# Import libraries"
   ]
  },
  {
   "cell_type": "code",
   "execution_count": 1,
   "id": "d80df86b",
   "metadata": {},
   "outputs": [],
   "source": [
    "import numpy as np\n",
    "import pandas as  pd\n",
    "import seaborn as sns\n",
    "import matplotlib.pyplot as plt\n",
    "from sklearn.feature_selection import VarianceThreshold\n",
    "from sklearn.preprocessing import StandardScaler\n",
    "from sklearn.linear_model import LinearRegression\n",
    "from sklearn.model_selection import train_test_split\n",
    "import statsmodels.api as sm\n",
    "import warnings\n",
    "warnings.filterwarnings('ignore')"
   ]
  },
  {
   "cell_type": "code",
   "execution_count": 2,
   "id": "e75e6400",
   "metadata": {},
   "outputs": [],
   "source": [
    "# Since we are going to mae lot of visualization, let's set some visualization parameters in order to have same plots size\n",
    "plt.rcParams['figure.figsize'] = [12,6]\n",
    "sns.set_style('darkgrid')"
   ]
  },
  {
   "cell_type": "code",
   "execution_count": 3,
   "id": "8c564815",
   "metadata": {},
   "outputs": [
    {
     "data": {
      "text/html": [
       "<div>\n",
       "<style scoped>\n",
       "    .dataframe tbody tr th:only-of-type {\n",
       "        vertical-align: middle;\n",
       "    }\n",
       "\n",
       "    .dataframe tbody tr th {\n",
       "        vertical-align: top;\n",
       "    }\n",
       "\n",
       "    .dataframe thead th {\n",
       "        text-align: right;\n",
       "    }\n",
       "</style>\n",
       "<table border=\"1\" class=\"dataframe\">\n",
       "  <thead>\n",
       "    <tr style=\"text-align: right;\">\n",
       "      <th></th>\n",
       "      <th>PRIX</th>\n",
       "      <th>SUPERFICIE</th>\n",
       "      <th>CHAMBRES</th>\n",
       "      <th>SDB</th>\n",
       "      <th>ETAGES</th>\n",
       "      <th>ALLEE</th>\n",
       "      <th>SALLEJEU</th>\n",
       "      <th>CAVE</th>\n",
       "      <th>GAZ</th>\n",
       "      <th>AIR</th>\n",
       "      <th>GARAGES</th>\n",
       "      <th>SITUATION</th>\n",
       "    </tr>\n",
       "  </thead>\n",
       "  <tbody>\n",
       "    <tr>\n",
       "      <th>0</th>\n",
       "      <td>42000</td>\n",
       "      <td>5850</td>\n",
       "      <td>3</td>\n",
       "      <td>1</td>\n",
       "      <td>2</td>\n",
       "      <td>1</td>\n",
       "      <td>0</td>\n",
       "      <td>1</td>\n",
       "      <td>0</td>\n",
       "      <td>0</td>\n",
       "      <td>1</td>\n",
       "      <td>0</td>\n",
       "    </tr>\n",
       "    <tr>\n",
       "      <th>1</th>\n",
       "      <td>38500</td>\n",
       "      <td>4000</td>\n",
       "      <td>2</td>\n",
       "      <td>1</td>\n",
       "      <td>1</td>\n",
       "      <td>1</td>\n",
       "      <td>0</td>\n",
       "      <td>0</td>\n",
       "      <td>0</td>\n",
       "      <td>0</td>\n",
       "      <td>0</td>\n",
       "      <td>0</td>\n",
       "    </tr>\n",
       "    <tr>\n",
       "      <th>2</th>\n",
       "      <td>49500</td>\n",
       "      <td>3060</td>\n",
       "      <td>3</td>\n",
       "      <td>1</td>\n",
       "      <td>1</td>\n",
       "      <td>1</td>\n",
       "      <td>0</td>\n",
       "      <td>0</td>\n",
       "      <td>0</td>\n",
       "      <td>0</td>\n",
       "      <td>0</td>\n",
       "      <td>0</td>\n",
       "    </tr>\n",
       "    <tr>\n",
       "      <th>3</th>\n",
       "      <td>60500</td>\n",
       "      <td>6650</td>\n",
       "      <td>3</td>\n",
       "      <td>1</td>\n",
       "      <td>2</td>\n",
       "      <td>1</td>\n",
       "      <td>1</td>\n",
       "      <td>0</td>\n",
       "      <td>0</td>\n",
       "      <td>0</td>\n",
       "      <td>0</td>\n",
       "      <td>0</td>\n",
       "    </tr>\n",
       "    <tr>\n",
       "      <th>4</th>\n",
       "      <td>61000</td>\n",
       "      <td>6360</td>\n",
       "      <td>2</td>\n",
       "      <td>1</td>\n",
       "      <td>1</td>\n",
       "      <td>1</td>\n",
       "      <td>0</td>\n",
       "      <td>0</td>\n",
       "      <td>0</td>\n",
       "      <td>0</td>\n",
       "      <td>0</td>\n",
       "      <td>0</td>\n",
       "    </tr>\n",
       "  </tbody>\n",
       "</table>\n",
       "</div>"
      ],
      "text/plain": [
       "    PRIX  SUPERFICIE  CHAMBRES  SDB  ETAGES  ALLEE  SALLEJEU  CAVE  GAZ  AIR  \\\n",
       "0  42000        5850         3    1       2      1         0     1    0    0   \n",
       "1  38500        4000         2    1       1      1         0     0    0    0   \n",
       "2  49500        3060         3    1       1      1         0     0    0    0   \n",
       "3  60500        6650         3    1       2      1         1     0    0    0   \n",
       "4  61000        6360         2    1       1      1         0     0    0    0   \n",
       "\n",
       "   GARAGES  SITUATION  \n",
       "0        1          0  \n",
       "1        0          0  \n",
       "2        0          0  \n",
       "3        0          0  \n",
       "4        0          0  "
      ]
     },
     "execution_count": 3,
     "metadata": {},
     "output_type": "execute_result"
    }
   ],
   "source": [
    "#Read the data from csv file\n",
    "\n",
    "df_house = pd.read_csv('Maison.csv')\n",
    "df_house.head()"
   ]
  },
  {
   "cell_type": "markdown",
   "id": "b3e8cb74",
   "metadata": {},
   "source": [
    "# Data Transformations & Analysis"
   ]
  },
  {
   "cell_type": "code",
   "execution_count": 4,
   "id": "d6124bd3",
   "metadata": {},
   "outputs": [],
   "source": [
    "df_house = df_house.rename(index = str,\n",
    "                    columns = {'PRIX':'Price', 'SUPERFICIE':'Area', 'CHAMBRES':'Rooms', 'SDB':'Bathroom', 'ETAGES':'Floors',\n",
    "                               'ALLEE':'Driveway', 'SALLEJEU':'Game_room', 'CAVE':'Cellar', 'GAZ':'Gas', 'AIR':'Air',\n",
    "                               'GARAGES':'Garage', 'SITUATION':'Situation'})"
   ]
  },
  {
   "cell_type": "code",
   "execution_count": 5,
   "id": "16dd40be",
   "metadata": {},
   "outputs": [
    {
     "data": {
      "text/html": [
       "<div>\n",
       "<style scoped>\n",
       "    .dataframe tbody tr th:only-of-type {\n",
       "        vertical-align: middle;\n",
       "    }\n",
       "\n",
       "    .dataframe tbody tr th {\n",
       "        vertical-align: top;\n",
       "    }\n",
       "\n",
       "    .dataframe thead th {\n",
       "        text-align: right;\n",
       "    }\n",
       "</style>\n",
       "<table border=\"1\" class=\"dataframe\">\n",
       "  <thead>\n",
       "    <tr style=\"text-align: right;\">\n",
       "      <th></th>\n",
       "      <th>Price</th>\n",
       "      <th>Area</th>\n",
       "      <th>Rooms</th>\n",
       "      <th>Bathroom</th>\n",
       "      <th>Floors</th>\n",
       "      <th>Driveway</th>\n",
       "      <th>Game_room</th>\n",
       "      <th>Cellar</th>\n",
       "      <th>Gas</th>\n",
       "      <th>Air</th>\n",
       "      <th>Garage</th>\n",
       "      <th>Situation</th>\n",
       "    </tr>\n",
       "  </thead>\n",
       "  <tbody>\n",
       "    <tr>\n",
       "      <th>0</th>\n",
       "      <td>42000</td>\n",
       "      <td>5850</td>\n",
       "      <td>3</td>\n",
       "      <td>1</td>\n",
       "      <td>2</td>\n",
       "      <td>1</td>\n",
       "      <td>0</td>\n",
       "      <td>1</td>\n",
       "      <td>0</td>\n",
       "      <td>0</td>\n",
       "      <td>1</td>\n",
       "      <td>0</td>\n",
       "    </tr>\n",
       "    <tr>\n",
       "      <th>1</th>\n",
       "      <td>38500</td>\n",
       "      <td>4000</td>\n",
       "      <td>2</td>\n",
       "      <td>1</td>\n",
       "      <td>1</td>\n",
       "      <td>1</td>\n",
       "      <td>0</td>\n",
       "      <td>0</td>\n",
       "      <td>0</td>\n",
       "      <td>0</td>\n",
       "      <td>0</td>\n",
       "      <td>0</td>\n",
       "    </tr>\n",
       "    <tr>\n",
       "      <th>2</th>\n",
       "      <td>49500</td>\n",
       "      <td>3060</td>\n",
       "      <td>3</td>\n",
       "      <td>1</td>\n",
       "      <td>1</td>\n",
       "      <td>1</td>\n",
       "      <td>0</td>\n",
       "      <td>0</td>\n",
       "      <td>0</td>\n",
       "      <td>0</td>\n",
       "      <td>0</td>\n",
       "      <td>0</td>\n",
       "    </tr>\n",
       "    <tr>\n",
       "      <th>3</th>\n",
       "      <td>60500</td>\n",
       "      <td>6650</td>\n",
       "      <td>3</td>\n",
       "      <td>1</td>\n",
       "      <td>2</td>\n",
       "      <td>1</td>\n",
       "      <td>1</td>\n",
       "      <td>0</td>\n",
       "      <td>0</td>\n",
       "      <td>0</td>\n",
       "      <td>0</td>\n",
       "      <td>0</td>\n",
       "    </tr>\n",
       "    <tr>\n",
       "      <th>4</th>\n",
       "      <td>61000</td>\n",
       "      <td>6360</td>\n",
       "      <td>2</td>\n",
       "      <td>1</td>\n",
       "      <td>1</td>\n",
       "      <td>1</td>\n",
       "      <td>0</td>\n",
       "      <td>0</td>\n",
       "      <td>0</td>\n",
       "      <td>0</td>\n",
       "      <td>0</td>\n",
       "      <td>0</td>\n",
       "    </tr>\n",
       "  </tbody>\n",
       "</table>\n",
       "</div>"
      ],
      "text/plain": [
       "   Price  Area  Rooms  Bathroom  Floors  Driveway  Game_room  Cellar  Gas  \\\n",
       "0  42000  5850      3         1       2         1          0       1    0   \n",
       "1  38500  4000      2         1       1         1          0       0    0   \n",
       "2  49500  3060      3         1       1         1          0       0    0   \n",
       "3  60500  6650      3         1       2         1          1       0    0   \n",
       "4  61000  6360      2         1       1         1          0       0    0   \n",
       "\n",
       "   Air  Garage  Situation  \n",
       "0    0       1          0  \n",
       "1    0       0          0  \n",
       "2    0       0          0  \n",
       "3    0       0          0  \n",
       "4    0       0          0  "
      ]
     },
     "execution_count": 5,
     "metadata": {},
     "output_type": "execute_result"
    }
   ],
   "source": [
    "df_house.head()"
   ]
  },
  {
   "cell_type": "code",
   "execution_count": 6,
   "id": "0201f250",
   "metadata": {},
   "outputs": [
    {
     "data": {
      "text/plain": [
       "(546, 12)"
      ]
     },
     "execution_count": 6,
     "metadata": {},
     "output_type": "execute_result"
    }
   ],
   "source": [
    "#Shape of dataset\n",
    "\n",
    "df_house.shape"
   ]
  },
  {
   "cell_type": "code",
   "execution_count": 7,
   "id": "eb62fdff",
   "metadata": {},
   "outputs": [
    {
     "name": "stdout",
     "output_type": "stream",
     "text": [
      "<class 'pandas.core.frame.DataFrame'>\n",
      "Index: 546 entries, 0 to 545\n",
      "Data columns (total 12 columns):\n",
      " #   Column     Non-Null Count  Dtype\n",
      "---  ------     --------------  -----\n",
      " 0   Price      546 non-null    int64\n",
      " 1   Area       546 non-null    int64\n",
      " 2   Rooms      546 non-null    int64\n",
      " 3   Bathroom   546 non-null    int64\n",
      " 4   Floors     546 non-null    int64\n",
      " 5   Driveway   546 non-null    int64\n",
      " 6   Game_room  546 non-null    int64\n",
      " 7   Cellar     546 non-null    int64\n",
      " 8   Gas        546 non-null    int64\n",
      " 9   Air        546 non-null    int64\n",
      " 10  Garage     546 non-null    int64\n",
      " 11  Situation  546 non-null    int64\n",
      "dtypes: int64(12)\n",
      "memory usage: 55.5+ KB\n"
     ]
    }
   ],
   "source": [
    "# Getting basic information of dataset\n",
    "\n",
    "df_house.info()"
   ]
  },
  {
   "cell_type": "code",
   "execution_count": 8,
   "id": "009a03e5",
   "metadata": {},
   "outputs": [
    {
     "data": {
      "text/html": [
       "<div>\n",
       "<style scoped>\n",
       "    .dataframe tbody tr th:only-of-type {\n",
       "        vertical-align: middle;\n",
       "    }\n",
       "\n",
       "    .dataframe tbody tr th {\n",
       "        vertical-align: top;\n",
       "    }\n",
       "\n",
       "    .dataframe thead th {\n",
       "        text-align: right;\n",
       "    }\n",
       "</style>\n",
       "<table border=\"1\" class=\"dataframe\">\n",
       "  <thead>\n",
       "    <tr style=\"text-align: right;\">\n",
       "      <th></th>\n",
       "      <th>Price</th>\n",
       "      <th>Area</th>\n",
       "      <th>Rooms</th>\n",
       "      <th>Bathroom</th>\n",
       "      <th>Floors</th>\n",
       "      <th>Driveway</th>\n",
       "      <th>Game_room</th>\n",
       "      <th>Cellar</th>\n",
       "      <th>Gas</th>\n",
       "      <th>Air</th>\n",
       "      <th>Garage</th>\n",
       "      <th>Situation</th>\n",
       "    </tr>\n",
       "  </thead>\n",
       "  <tbody>\n",
       "    <tr>\n",
       "      <th>count</th>\n",
       "      <td>546.000000</td>\n",
       "      <td>546.000000</td>\n",
       "      <td>546.000000</td>\n",
       "      <td>546.000000</td>\n",
       "      <td>546.000000</td>\n",
       "      <td>546.000000</td>\n",
       "      <td>546.000000</td>\n",
       "      <td>546.000000</td>\n",
       "      <td>546.000000</td>\n",
       "      <td>546.000000</td>\n",
       "      <td>546.000000</td>\n",
       "      <td>546.000000</td>\n",
       "    </tr>\n",
       "    <tr>\n",
       "      <th>mean</th>\n",
       "      <td>68121.597070</td>\n",
       "      <td>5150.265568</td>\n",
       "      <td>2.965201</td>\n",
       "      <td>1.285714</td>\n",
       "      <td>1.807692</td>\n",
       "      <td>0.858974</td>\n",
       "      <td>0.177656</td>\n",
       "      <td>0.349817</td>\n",
       "      <td>0.045788</td>\n",
       "      <td>0.316850</td>\n",
       "      <td>0.692308</td>\n",
       "      <td>0.234432</td>\n",
       "    </tr>\n",
       "    <tr>\n",
       "      <th>std</th>\n",
       "      <td>26702.670926</td>\n",
       "      <td>2168.158725</td>\n",
       "      <td>0.737388</td>\n",
       "      <td>0.502158</td>\n",
       "      <td>0.868203</td>\n",
       "      <td>0.348367</td>\n",
       "      <td>0.382573</td>\n",
       "      <td>0.477349</td>\n",
       "      <td>0.209216</td>\n",
       "      <td>0.465675</td>\n",
       "      <td>0.861307</td>\n",
       "      <td>0.424032</td>\n",
       "    </tr>\n",
       "    <tr>\n",
       "      <th>min</th>\n",
       "      <td>25000.000000</td>\n",
       "      <td>1650.000000</td>\n",
       "      <td>1.000000</td>\n",
       "      <td>1.000000</td>\n",
       "      <td>1.000000</td>\n",
       "      <td>0.000000</td>\n",
       "      <td>0.000000</td>\n",
       "      <td>0.000000</td>\n",
       "      <td>0.000000</td>\n",
       "      <td>0.000000</td>\n",
       "      <td>0.000000</td>\n",
       "      <td>0.000000</td>\n",
       "    </tr>\n",
       "    <tr>\n",
       "      <th>25%</th>\n",
       "      <td>49125.000000</td>\n",
       "      <td>3600.000000</td>\n",
       "      <td>2.000000</td>\n",
       "      <td>1.000000</td>\n",
       "      <td>1.000000</td>\n",
       "      <td>1.000000</td>\n",
       "      <td>0.000000</td>\n",
       "      <td>0.000000</td>\n",
       "      <td>0.000000</td>\n",
       "      <td>0.000000</td>\n",
       "      <td>0.000000</td>\n",
       "      <td>0.000000</td>\n",
       "    </tr>\n",
       "    <tr>\n",
       "      <th>50%</th>\n",
       "      <td>62000.000000</td>\n",
       "      <td>4600.000000</td>\n",
       "      <td>3.000000</td>\n",
       "      <td>1.000000</td>\n",
       "      <td>2.000000</td>\n",
       "      <td>1.000000</td>\n",
       "      <td>0.000000</td>\n",
       "      <td>0.000000</td>\n",
       "      <td>0.000000</td>\n",
       "      <td>0.000000</td>\n",
       "      <td>0.000000</td>\n",
       "      <td>0.000000</td>\n",
       "    </tr>\n",
       "    <tr>\n",
       "      <th>75%</th>\n",
       "      <td>82000.000000</td>\n",
       "      <td>6360.000000</td>\n",
       "      <td>3.000000</td>\n",
       "      <td>2.000000</td>\n",
       "      <td>2.000000</td>\n",
       "      <td>1.000000</td>\n",
       "      <td>0.000000</td>\n",
       "      <td>1.000000</td>\n",
       "      <td>0.000000</td>\n",
       "      <td>1.000000</td>\n",
       "      <td>1.000000</td>\n",
       "      <td>0.000000</td>\n",
       "    </tr>\n",
       "    <tr>\n",
       "      <th>max</th>\n",
       "      <td>190000.000000</td>\n",
       "      <td>16200.000000</td>\n",
       "      <td>6.000000</td>\n",
       "      <td>4.000000</td>\n",
       "      <td>4.000000</td>\n",
       "      <td>1.000000</td>\n",
       "      <td>1.000000</td>\n",
       "      <td>1.000000</td>\n",
       "      <td>1.000000</td>\n",
       "      <td>1.000000</td>\n",
       "      <td>3.000000</td>\n",
       "      <td>1.000000</td>\n",
       "    </tr>\n",
       "  </tbody>\n",
       "</table>\n",
       "</div>"
      ],
      "text/plain": [
       "               Price          Area       Rooms    Bathroom      Floors  \\\n",
       "count     546.000000    546.000000  546.000000  546.000000  546.000000   \n",
       "mean    68121.597070   5150.265568    2.965201    1.285714    1.807692   \n",
       "std     26702.670926   2168.158725    0.737388    0.502158    0.868203   \n",
       "min     25000.000000   1650.000000    1.000000    1.000000    1.000000   \n",
       "25%     49125.000000   3600.000000    2.000000    1.000000    1.000000   \n",
       "50%     62000.000000   4600.000000    3.000000    1.000000    2.000000   \n",
       "75%     82000.000000   6360.000000    3.000000    2.000000    2.000000   \n",
       "max    190000.000000  16200.000000    6.000000    4.000000    4.000000   \n",
       "\n",
       "         Driveway   Game_room      Cellar         Gas         Air      Garage  \\\n",
       "count  546.000000  546.000000  546.000000  546.000000  546.000000  546.000000   \n",
       "mean     0.858974    0.177656    0.349817    0.045788    0.316850    0.692308   \n",
       "std      0.348367    0.382573    0.477349    0.209216    0.465675    0.861307   \n",
       "min      0.000000    0.000000    0.000000    0.000000    0.000000    0.000000   \n",
       "25%      1.000000    0.000000    0.000000    0.000000    0.000000    0.000000   \n",
       "50%      1.000000    0.000000    0.000000    0.000000    0.000000    0.000000   \n",
       "75%      1.000000    0.000000    1.000000    0.000000    1.000000    1.000000   \n",
       "max      1.000000    1.000000    1.000000    1.000000    1.000000    3.000000   \n",
       "\n",
       "        Situation  \n",
       "count  546.000000  \n",
       "mean     0.234432  \n",
       "std      0.424032  \n",
       "min      0.000000  \n",
       "25%      0.000000  \n",
       "50%      0.000000  \n",
       "75%      0.000000  \n",
       "max      1.000000  "
      ]
     },
     "execution_count": 8,
     "metadata": {},
     "output_type": "execute_result"
    }
   ],
   "source": [
    "# Getting Five number summery of Numerical columns\n",
    "\n",
    "df_house.describe()"
   ]
  },
  {
   "cell_type": "code",
   "execution_count": 9,
   "id": "9562da85",
   "metadata": {},
   "outputs": [
    {
     "data": {
      "text/plain": [
       "Price        0\n",
       "Area         0\n",
       "Rooms        0\n",
       "Bathroom     0\n",
       "Floors       0\n",
       "Driveway     0\n",
       "Game_room    0\n",
       "Cellar       0\n",
       "Gas          0\n",
       "Air          0\n",
       "Garage       0\n",
       "Situation    0\n",
       "dtype: int64"
      ]
     },
     "execution_count": 9,
     "metadata": {},
     "output_type": "execute_result"
    }
   ],
   "source": [
    "# Checking for null values\n",
    "\n",
    "df_house.isnull().sum()   #There is no null values in the dataset"
   ]
  },
  {
   "cell_type": "code",
   "execution_count": 10,
   "id": "d1dc5b1f",
   "metadata": {},
   "outputs": [
    {
     "data": {
      "text/plain": [
       "Area         284\n",
       "Price        219\n",
       "Rooms          6\n",
       "Bathroom       4\n",
       "Floors         4\n",
       "Garage         4\n",
       "Driveway       2\n",
       "Game_room      2\n",
       "Cellar         2\n",
       "Gas            2\n",
       "Air            2\n",
       "Situation      2\n",
       "dtype: int64"
      ]
     },
     "execution_count": 10,
     "metadata": {},
     "output_type": "execute_result"
    }
   ],
   "source": [
    "# Checking unique values in each column\n",
    "\n",
    "df_house.nunique().sort_values(ascending=False)"
   ]
  },
  {
   "cell_type": "code",
   "execution_count": 11,
   "id": "3a57dd17",
   "metadata": {},
   "outputs": [],
   "source": [
    "house = df_house"
   ]
  },
  {
   "cell_type": "markdown",
   "id": "cb56a8ee",
   "metadata": {},
   "source": [
    "# Correlation Check"
   ]
  },
  {
   "cell_type": "code",
   "execution_count": 12,
   "id": "ab09e488",
   "metadata": {},
   "outputs": [
    {
     "data": {
      "text/plain": [
       "<AxesSubplot:>"
      ]
     },
     "execution_count": 12,
     "metadata": {},
     "output_type": "execute_result"
    },
    {
     "data": {
      "image/png": "[encoded data removed]",
      "text/plain": [
       "<Figure size 1080x648 with 2 Axes>"
      ]
     },
     "metadata": {},
     "output_type": "display_data"
    }
   ],
   "source": [
    "# Checking correlation between numerical variables\n",
    "\n",
    "correlations = house.corr()\n",
    "plt.subplots(figsize=(15,9))\n",
    "sns.heatmap(correlations, annot=True)"
   ]
  },
  {
   "cell_type": "code",
   "execution_count": 13,
   "id": "1beaf386",
   "metadata": {},
   "outputs": [],
   "source": [
    "def correlation(dataset, threshold):\n",
    "    col_corr = list() # list of all the names of deleted columns\n",
    "    corr_matrix = dataset.corr()\n",
    "    for i in range(len(corr_matrix.columns)):\n",
    "        for j in range(i):\n",
    "            if abs(corr_matrix.iloc[i, j] >= threshold):\n",
    "                colname = corr_matrix.columns[i] # getting the name of column\n",
    "                col_corr.append(colname)\n",
    "    return col_corr"
   ]
  },
  {
   "cell_type": "code",
   "execution_count": 14,
   "id": "a2c5f32a",
   "metadata": {},
   "outputs": [
    {
     "data": {
      "text/plain": [
       "0"
      ]
     },
     "execution_count": 14,
     "metadata": {},
     "output_type": "execute_result"
    }
   ],
   "source": [
    "corr_feature = correlation(house, 0.75)\n",
    "len(set(corr_feature))"
   ]
  },
  {
   "cell_type": "code",
   "execution_count": 15,
   "id": "eb22440f",
   "metadata": {},
   "outputs": [
    {
     "data": {
      "text/plain": [
       "[]"
      ]
     },
     "execution_count": 15,
     "metadata": {},
     "output_type": "execute_result"
    }
   ],
   "source": [
    "corr_feature  #There is no correlated variables in dataset"
   ]
  },
  {
   "cell_type": "markdown",
   "id": "157c1cc4",
   "metadata": {},
   "source": [
    "# Cheking for the Zero Variance"
   ]
  },
  {
   "cell_type": "code",
   "execution_count": 16,
   "id": "bac6a387",
   "metadata": {},
   "outputs": [
    {
     "data": {
      "text/plain": [
       "VarianceThreshold(threshold=0)"
      ]
     },
     "execution_count": 16,
     "metadata": {},
     "output_type": "execute_result"
    }
   ],
   "source": [
    "selector = VarianceThreshold(threshold=0)\n",
    "selector.fit(house)"
   ]
  },
  {
   "cell_type": "code",
   "execution_count": 17,
   "id": "53bb9be4",
   "metadata": {},
   "outputs": [
    {
     "data": {
      "text/plain": [
       "array([ True,  True,  True,  True,  True,  True,  True,  True,  True,\n",
       "        True,  True,  True])"
      ]
     },
     "execution_count": 17,
     "metadata": {},
     "output_type": "execute_result"
    }
   ],
   "source": [
    "selector.get_support()"
   ]
  },
  {
   "cell_type": "code",
   "execution_count": 18,
   "id": "0904ca67",
   "metadata": {},
   "outputs": [
    {
     "data": {
      "text/plain": [
       "Index(['Price', 'Area', 'Rooms', 'Bathroom', 'Floors', 'Driveway', 'Game_room',\n",
       "       'Cellar', 'Gas', 'Air', 'Garage', 'Situation'],\n",
       "      dtype='object')"
      ]
     },
     "execution_count": 18,
     "metadata": {},
     "output_type": "execute_result"
    }
   ],
   "source": [
    "house.columns[selector.get_support()]"
   ]
  },
  {
   "cell_type": "code",
   "execution_count": 19,
   "id": "d538180e",
   "metadata": {},
   "outputs": [],
   "source": [
    "# Get features which have the variance less than the set threshold values using list comprehension\n",
    "\n",
    "selected_cols = [column for column in house.columns if column not in house.columns[selector.get_support()]]"
   ]
  },
  {
   "cell_type": "code",
   "execution_count": 20,
   "id": "86ba7f3d",
   "metadata": {},
   "outputs": [
    {
     "data": {
      "text/plain": [
       "[]"
      ]
     },
     "execution_count": 20,
     "metadata": {},
     "output_type": "execute_result"
    }
   ],
   "source": [
    "selected_cols   #There is no zero variance columns "
   ]
  },
  {
   "cell_type": "code",
   "execution_count": 21,
   "id": "4bf7ce31",
   "metadata": {},
   "outputs": [
    {
     "data": {
      "text/plain": [
       "Index(['Price', 'Area', 'Rooms', 'Bathroom', 'Floors', 'Driveway', 'Game_room',\n",
       "       'Cellar', 'Gas', 'Air', 'Garage', 'Situation'],\n",
       "      dtype='object')"
      ]
     },
     "execution_count": 21,
     "metadata": {},
     "output_type": "execute_result"
    }
   ],
   "source": [
    "house.columns"
   ]
  },
  {
   "cell_type": "markdown",
   "id": "e8c9694f",
   "metadata": {},
   "source": [
    "# Distribution of attributes"
   ]
  },
  {
   "cell_type": "code",
   "execution_count": 22,
   "id": "847c04f6",
   "metadata": {},
   "outputs": [
    {
     "data": {
      "image/png": "[encoded data removed]",
      "text/plain": [
       "<Figure size 1080x3240 with 12 Axes>"
      ]
     },
     "metadata": {},
     "output_type": "display_data"
    }
   ],
   "source": [
    "fig, ax = plt.subplots(nrows=12, ncols=1, figsize=(15, 45)) # create subplots\n",
    "fig.subplots_adjust(hspace=.5) # adjust space between plots\n",
    "\n",
    "for i, col in enumerate(house):\n",
    "    sns.boxplot(x=house[col], ax=ax[i])\n",
    "    ax[i].set_title('Distribution of {}'.format(col))"
   ]
  },
  {
   "cell_type": "code",
   "execution_count": 23,
   "id": "92e01fcc",
   "metadata": {},
   "outputs": [
    {
     "data": {
      "image/png": "[encoded data removed]",
      "text/plain": [
       "<Figure size 864x432 with 1 Axes>"
      ]
     },
     "metadata": {},
     "output_type": "display_data"
    }
   ],
   "source": [
    "# Let's see we have a linear relation between price and area\n",
    "\n",
    "plt.scatter(house['Area'], house['Price'])\n",
    "plt.show()"
   ]
  },
  {
   "cell_type": "code",
   "execution_count": 24,
   "id": "f56b353c",
   "metadata": {},
   "outputs": [
    {
     "data": {
      "image/png": "[encoded data removed]",
      "text/plain": [
       "<Figure size 864x432 with 1 Axes>"
      ]
     },
     "metadata": {},
     "output_type": "display_data"
    }
   ],
   "source": [
    "sns.distplot(house['Price'])\n",
    "plt.show()"
   ]
  },
  {
   "cell_type": "code",
   "execution_count": 25,
   "id": "319bb6e2",
   "metadata": {},
   "outputs": [
    {
     "data": {
      "image/png": "[encoded data removed]",
      "text/plain": [
       "<Figure size 864x432 with 1 Axes>"
      ]
     },
     "metadata": {},
     "output_type": "display_data"
    }
   ],
   "source": [
    "sns.distplot(house['Area'])\n",
    "plt.show()"
   ]
  },
  {
   "cell_type": "markdown",
   "id": "93d77f14",
   "metadata": {},
   "source": [
    "# Handling Outliers by Removing"
   ]
  },
  {
   "cell_type": "code",
   "execution_count": 26,
   "id": "3114ba23",
   "metadata": {},
   "outputs": [],
   "source": [
    "# define a function called 'detect_outliers_iqr' which returns a list of index of outliers\n",
    "# IQR = Q3 - Q1\n",
    "# +/- 1.5 * IQR\n",
    "\n",
    "def detect_outliers_iqr(df, ft):\n",
    "    Q1 = df[ft].quantile(0.25)\n",
    "    Q3 = df[ft].quantile(0.75)\n",
    "    IQR = Q3 - Q1\n",
    "    \n",
    "    lower_limit = Q1 - 1.5 * IQR\n",
    "    upper_limit = Q3 + 1.5 * IQR\n",
    "    \n",
    "    ls = df.index[(df[ft] < lower_limit) | (df[ft] > upper_limit)]\n",
    "\n",
    "    return ls"
   ]
  },
  {
   "cell_type": "code",
   "execution_count": 27,
   "id": "665195a3",
   "metadata": {},
   "outputs": [],
   "source": [
    "#create an empty list to store the output from multiple columns\n",
    "\n",
    "outliers_list = []\n",
    "\n",
    "for out_list in ['Area']:\n",
    "    outliers_list.extend(detect_outliers_iqr(house, out_list)) "
   ]
  },
  {
   "cell_type": "code",
   "execution_count": 28,
   "id": "52196a02",
   "metadata": {},
   "outputs": [
    {
     "name": "stdout",
     "output_type": "stream",
     "text": [
      "Outliers from IQR method:  12\n"
     ]
    }
   ],
   "source": [
    "print(\"Outliers from IQR method: \", len(outliers_list)) "
   ]
  },
  {
   "cell_type": "code",
   "execution_count": 29,
   "id": "cc1ae04c",
   "metadata": {},
   "outputs": [],
   "source": [
    "#define a function called 'remove' which returns a cleaned dataframe without outliers\n",
    "\n",
    "def remove(df, ls):\n",
    "    ls = sorted(set(ls))\n",
    "    df = df.drop(ls)\n",
    "    return df"
   ]
  },
  {
   "cell_type": "code",
   "execution_count": 30,
   "id": "6256eb67",
   "metadata": {},
   "outputs": [],
   "source": [
    "encoded_df = remove(house, outliers_list)"
   ]
  },
  {
   "cell_type": "code",
   "execution_count": 31,
   "id": "dc6d026b",
   "metadata": {},
   "outputs": [
    {
     "data": {
      "text/plain": [
       "(534, 12)"
      ]
     },
     "execution_count": 31,
     "metadata": {},
     "output_type": "execute_result"
    }
   ],
   "source": [
    "encoded_df.shape"
   ]
  },
  {
   "cell_type": "code",
   "execution_count": 32,
   "id": "55164c99",
   "metadata": {},
   "outputs": [
    {
     "data": {
      "text/plain": [
       "<AxesSubplot:xlabel='Area'>"
      ]
     },
     "execution_count": 32,
     "metadata": {},
     "output_type": "execute_result"
    },
    {
     "data": {
      "image/png": "[encoded data removed]",
      "text/plain": [
       "<Figure size 864x432 with 1 Axes>"
      ]
     },
     "metadata": {},
     "output_type": "display_data"
    }
   ],
   "source": [
    "sns.boxplot(x=encoded_df['Area'])"
   ]
  },
  {
   "cell_type": "code",
   "execution_count": 33,
   "id": "49f37fd1",
   "metadata": {},
   "outputs": [
    {
     "data": {
      "image/png": "[encoded data removed]",
      "text/plain": [
       "<Figure size 864x432 with 1 Axes>"
      ]
     },
     "metadata": {},
     "output_type": "display_data"
    }
   ],
   "source": [
    "# Let's see we have a linear relation between price and area\n",
    "\n",
    "plt.scatter(encoded_df['Area'], encoded_df['Price'])\n",
    "plt.show()"
   ]
  },
  {
   "cell_type": "markdown",
   "id": "56506e92",
   "metadata": {},
   "source": [
    "# Split the data into X and Y"
   ]
  },
  {
   "cell_type": "code",
   "execution_count": 34,
   "id": "8067dbe1",
   "metadata": {},
   "outputs": [],
   "source": [
    "x = encoded_df.drop(['Price'], axis = 1).values\n",
    "y = encoded_df['Price'].values"
   ]
  },
  {
   "cell_type": "markdown",
   "id": "9cbf65f7",
   "metadata": {},
   "source": [
    "# Standardization & Scaling of Features"
   ]
  },
  {
   "cell_type": "code",
   "execution_count": 35,
   "id": "d01d4d39",
   "metadata": {},
   "outputs": [],
   "source": [
    "std_scaler = StandardScaler()\n",
    "x = std_scaler.fit_transform(x)"
   ]
  },
  {
   "cell_type": "code",
   "execution_count": 36,
   "id": "4465f2da",
   "metadata": {},
   "outputs": [],
   "source": [
    "#Split the data into Train-Test\n",
    "\n",
    "x_train, x_test, y_train, y_test = train_test_split(x, y, test_size = 0.3, random_state = 42)"
   ]
  },
  {
   "cell_type": "markdown",
   "id": "d32614b8",
   "metadata": {},
   "source": [
    "# Build the Linear Regression Model"
   ]
  },
  {
   "cell_type": "code",
   "execution_count": 37,
   "id": "1c4c1cc3",
   "metadata": {},
   "outputs": [],
   "source": [
    "#we now instatiate a Linear Regression object\n",
    "\n",
    "lm = LinearRegression()"
   ]
  },
  {
   "cell_type": "code",
   "execution_count": 38,
   "id": "4e3d75b5",
   "metadata": {},
   "outputs": [
    {
     "data": {
      "text/plain": [
       "LinearRegression()"
      ]
     },
     "execution_count": 38,
     "metadata": {},
     "output_type": "execute_result"
    }
   ],
   "source": [
    "# Now let's build the model using sklearn\n",
    "\n",
    "lm.fit(x_train, y_train)"
   ]
  },
  {
   "cell_type": "markdown",
   "id": "f69e1efa",
   "metadata": {},
   "source": [
    "# Prediction"
   ]
  },
  {
   "cell_type": "code",
   "execution_count": 39,
   "id": "84e95ac2",
   "metadata": {},
   "outputs": [],
   "source": [
    "predictions = lm.predict(x_test)"
   ]
  },
  {
   "cell_type": "code",
   "execution_count": 40,
   "id": "206673f8",
   "metadata": {},
   "outputs": [
    {
     "data": {
      "text/plain": [
       "<AxesSubplot:>"
      ]
     },
     "execution_count": 40,
     "metadata": {},
     "output_type": "execute_result"
    },
    {
     "data": {
      "image/png": "[encoded data removed]",
      "text/plain": [
       "<Figure size 864x432 with 1 Axes>"
      ]
     },
     "metadata": {},
     "output_type": "display_data"
    }
   ],
   "source": [
    "sns.scatterplot(y_test, predictions)"
   ]
  },
  {
   "cell_type": "code",
   "execution_count": 41,
   "id": "dcbefbd0",
   "metadata": {},
   "outputs": [
    {
     "name": "stdout",
     "output_type": "stream",
     "text": [
      "Accuracy -->  66.4312356303573\n"
     ]
    }
   ],
   "source": [
    "print(\"Accuracy --> \", lm.score(x_test, y_test)*100)"
   ]
  },
  {
   "cell_type": "code",
   "execution_count": 42,
   "id": "59bc6526",
   "metadata": {},
   "outputs": [],
   "source": [
    "x_endog = sm.add_constant(x_test)"
   ]
  },
  {
   "cell_type": "code",
   "execution_count": 43,
   "id": "1f5b1b0e",
   "metadata": {},
   "outputs": [
    {
     "data": {
      "text/plain": [
       "<statsmodels.regression.linear_model.RegressionResultsWrapper at 0x1c480991280>"
      ]
     },
     "execution_count": 43,
     "metadata": {},
     "output_type": "execute_result"
    }
   ],
   "source": [
    "res = sm.OLS(y_test, x_endog)\n",
    "res.fit()"
   ]
  },
  {
   "cell_type": "code",
   "execution_count": 44,
   "id": "ac27f61e",
   "metadata": {},
   "outputs": [
    {
     "data": {
      "text/html": [
       "<table class=\"simpletable\">\n",
       "<caption>OLS Regression Results</caption>\n",
       "<tr>\n",
       "  <th>Dep. Variable:</th>            <td>y</td>        <th>  R-squared:         </th> <td>   0.715</td>\n",
       "</tr>\n",
       "<tr>\n",
       "  <th>Model:</th>                   <td>OLS</td>       <th>  Adj. R-squared:    </th> <td>   0.693</td>\n",
       "</tr>\n",
       "<tr>\n",
       "  <th>Method:</th>             <td>Least Squares</td>  <th>  F-statistic:       </th> <td>   33.91</td>\n",
       "</tr>\n",
       "<tr>\n",
       "  <th>Date:</th>             <td>Fri, 26 Nov 2021</td> <th>  Prob (F-statistic):</th> <td>3.68e-35</td>\n",
       "</tr>\n",
       "<tr>\n",
       "  <th>Time:</th>                 <td>18:51:44</td>     <th>  Log-Likelihood:    </th> <td> -1768.7</td>\n",
       "</tr>\n",
       "<tr>\n",
       "  <th>No. Observations:</th>      <td>   161</td>      <th>  AIC:               </th> <td>   3561.</td>\n",
       "</tr>\n",
       "<tr>\n",
       "  <th>Df Residuals:</th>          <td>   149</td>      <th>  BIC:               </th> <td>   3598.</td>\n",
       "</tr>\n",
       "<tr>\n",
       "  <th>Df Model:</th>              <td>    11</td>      <th>                     </th>     <td> </td>   \n",
       "</tr>\n",
       "<tr>\n",
       "  <th>Covariance Type:</th>      <td>nonrobust</td>    <th>                     </th>     <td> </td>   \n",
       "</tr>\n",
       "</table>\n",
       "<table class=\"simpletable\">\n",
       "<tr>\n",
       "    <td></td>       <th>coef</th>     <th>std err</th>      <th>t</th>      <th>P>|t|</th>  <th>[0.025</th>    <th>0.975]</th>  \n",
       "</tr>\n",
       "<tr>\n",
       "  <th>const</th> <td> 6.701e+04</td> <td> 1194.112</td> <td>   56.113</td> <td> 0.000</td> <td> 6.46e+04</td> <td> 6.94e+04</td>\n",
       "</tr>\n",
       "<tr>\n",
       "  <th>x1</th>    <td> 1.018e+04</td> <td> 1537.129</td> <td>    6.620</td> <td> 0.000</td> <td> 7138.373</td> <td> 1.32e+04</td>\n",
       "</tr>\n",
       "<tr>\n",
       "  <th>x2</th>    <td> -777.6540</td> <td> 1455.728</td> <td>   -0.534</td> <td> 0.594</td> <td>-3654.192</td> <td> 2098.884</td>\n",
       "</tr>\n",
       "<tr>\n",
       "  <th>x3</th>    <td> 8088.1153</td> <td> 1275.127</td> <td>    6.343</td> <td> 0.000</td> <td> 5568.447</td> <td> 1.06e+04</td>\n",
       "</tr>\n",
       "<tr>\n",
       "  <th>x4</th>    <td> 6606.7427</td> <td> 1515.677</td> <td>    4.359</td> <td> 0.000</td> <td> 3611.745</td> <td> 9601.740</td>\n",
       "</tr>\n",
       "<tr>\n",
       "  <th>x5</th>    <td> 1302.4487</td> <td> 1227.642</td> <td>    1.061</td> <td> 0.290</td> <td>-1123.387</td> <td> 3728.285</td>\n",
       "</tr>\n",
       "<tr>\n",
       "  <th>x6</th>    <td> -751.3278</td> <td> 1327.559</td> <td>   -0.566</td> <td> 0.572</td> <td>-3374.602</td> <td> 1871.947</td>\n",
       "</tr>\n",
       "<tr>\n",
       "  <th>x7</th>    <td> 1471.9522</td> <td> 1277.529</td> <td>    1.152</td> <td> 0.251</td> <td>-1052.462</td> <td> 3996.367</td>\n",
       "</tr>\n",
       "<tr>\n",
       "  <th>x8</th>    <td> 1695.5898</td> <td> 1312.674</td> <td>    1.292</td> <td> 0.198</td> <td> -898.271</td> <td> 4289.451</td>\n",
       "</tr>\n",
       "<tr>\n",
       "  <th>x9</th>    <td> 3498.7574</td> <td> 1371.165</td> <td>    2.552</td> <td> 0.012</td> <td>  789.318</td> <td> 6208.197</td>\n",
       "</tr>\n",
       "<tr>\n",
       "  <th>x10</th>   <td> 1537.3620</td> <td> 1332.999</td> <td>    1.153</td> <td> 0.251</td> <td>-1096.661</td> <td> 4171.385</td>\n",
       "</tr>\n",
       "<tr>\n",
       "  <th>x11</th>   <td> 4496.8398</td> <td> 1348.000</td> <td>    3.336</td> <td> 0.001</td> <td> 1833.174</td> <td> 7160.506</td>\n",
       "</tr>\n",
       "</table>\n",
       "<table class=\"simpletable\">\n",
       "<tr>\n",
       "  <th>Omnibus:</th>       <td>17.042</td> <th>  Durbin-Watson:     </th> <td>   2.120</td>\n",
       "</tr>\n",
       "<tr>\n",
       "  <th>Prob(Omnibus):</th> <td> 0.000</td> <th>  Jarque-Bera (JB):  </th> <td>  26.614</td>\n",
       "</tr>\n",
       "<tr>\n",
       "  <th>Skew:</th>          <td> 0.568</td> <th>  Prob(JB):          </th> <td>1.66e-06</td>\n",
       "</tr>\n",
       "<tr>\n",
       "  <th>Kurtosis:</th>      <td> 4.636</td> <th>  Cond. No.          </th> <td>    2.76</td>\n",
       "</tr>\n",
       "</table><br/><br/>Notes:<br/>[1] Standard Errors assume that the covariance matrix of the errors is correctly specified."
      ],
      "text/plain": [
       "<class 'statsmodels.iolib.summary.Summary'>\n",
       "\"\"\"\n",
       "                            OLS Regression Results                            \n",
       "==============================================================================\n",
       "Dep. Variable:                      y   R-squared:                       0.715\n",
       "Model:                            OLS   Adj. R-squared:                  0.693\n",
       "Method:                 Least Squares   F-statistic:                     33.91\n",
       "Date:                Fri, 26 Nov 2021   Prob (F-statistic):           3.68e-35\n",
       "Time:                        18:51:44   Log-Likelihood:                -1768.7\n",
       "No. Observations:                 161   AIC:                             3561.\n",
       "Df Residuals:                     149   BIC:                             3598.\n",
       "Df Model:                          11                                         \n",
       "Covariance Type:            nonrobust                                         \n",
       "==============================================================================\n",
       "                 coef    std err          t      P>|t|      [0.025      0.975]\n",
       "------------------------------------------------------------------------------\n",
       "const       6.701e+04   1194.112     56.113      0.000    6.46e+04    6.94e+04\n",
       "x1          1.018e+04   1537.129      6.620      0.000    7138.373    1.32e+04\n",
       "x2          -777.6540   1455.728     -0.534      0.594   -3654.192    2098.884\n",
       "x3          8088.1153   1275.127      6.343      0.000    5568.447    1.06e+04\n",
       "x4          6606.7427   1515.677      4.359      0.000    3611.745    9601.740\n",
       "x5          1302.4487   1227.642      1.061      0.290   -1123.387    3728.285\n",
       "x6          -751.3278   1327.559     -0.566      0.572   -3374.602    1871.947\n",
       "x7          1471.9522   1277.529      1.152      0.251   -1052.462    3996.367\n",
       "x8          1695.5898   1312.674      1.292      0.198    -898.271    4289.451\n",
       "x9          3498.7574   1371.165      2.552      0.012     789.318    6208.197\n",
       "x10         1537.3620   1332.999      1.153      0.251   -1096.661    4171.385\n",
       "x11         4496.8398   1348.000      3.336      0.001    1833.174    7160.506\n",
       "==============================================================================\n",
       "Omnibus:                       17.042   Durbin-Watson:                   2.120\n",
       "Prob(Omnibus):                  0.000   Jarque-Bera (JB):               26.614\n",
       "Skew:                           0.568   Prob(JB):                     1.66e-06\n",
       "Kurtosis:                       4.636   Cond. No.                         2.76\n",
       "==============================================================================\n",
       "\n",
       "Notes:\n",
       "[1] Standard Errors assume that the covariance matrix of the errors is correctly specified.\n",
       "\"\"\""
      ]
     },
     "execution_count": 44,
     "metadata": {},
     "output_type": "execute_result"
    }
   ],
   "source": [
    "res.fit().summary()"
   ]
  },
  {
   "cell_type": "code",
   "execution_count": 45,
   "id": "2e8d23bc",
   "metadata": {},
   "outputs": [],
   "source": [
    "x_endog_test = sm.add_constant(x_test)\n",
    "model = res.fit()\n",
    "predictions = model.predict(x_endog_test)\n",
    "# predictions"
   ]
  },
  {
   "cell_type": "markdown",
   "id": "eb1f9f0c",
   "metadata": {},
   "source": [
    "# Store The Result in csv file"
   ]
  },
  {
   "cell_type": "code",
   "execution_count": 46,
   "id": "5f0dbb1d",
   "metadata": {
    "scrolled": true
   },
   "outputs": [
    {
     "data": {
      "text/html": [
       "<div>\n",
       "<style scoped>\n",
       "    .dataframe tbody tr th:only-of-type {\n",
       "        vertical-align: middle;\n",
       "    }\n",
       "\n",
       "    .dataframe tbody tr th {\n",
       "        vertical-align: top;\n",
       "    }\n",
       "\n",
       "    .dataframe thead th {\n",
       "        text-align: right;\n",
       "    }\n",
       "</style>\n",
       "<table border=\"1\" class=\"dataframe\">\n",
       "  <thead>\n",
       "    <tr style=\"text-align: right;\">\n",
       "      <th></th>\n",
       "      <th>0</th>\n",
       "      <th>1</th>\n",
       "      <th>2</th>\n",
       "      <th>3</th>\n",
       "      <th>4</th>\n",
       "      <th>5</th>\n",
       "      <th>6</th>\n",
       "      <th>7</th>\n",
       "      <th>8</th>\n",
       "      <th>9</th>\n",
       "      <th>10</th>\n",
       "      <th>y_test</th>\n",
       "      <th>Predictions</th>\n",
       "    </tr>\n",
       "  </thead>\n",
       "  <tbody>\n",
       "    <tr>\n",
       "      <th>0</th>\n",
       "      <td>-0.421625</td>\n",
       "      <td>0.053533</td>\n",
       "      <td>-0.573759</td>\n",
       "      <td>0.216942</td>\n",
       "      <td>0.410476</td>\n",
       "      <td>-0.468165</td>\n",
       "      <td>-0.731083</td>\n",
       "      <td>-0.21693</td>\n",
       "      <td>-0.683398</td>\n",
       "      <td>0.368668</td>\n",
       "      <td>-0.544166</td>\n",
       "      <td>70100</td>\n",
       "      <td>54637.195614</td>\n",
       "    </tr>\n",
       "    <tr>\n",
       "      <th>1</th>\n",
       "      <td>-0.610632</td>\n",
       "      <td>0.053533</td>\n",
       "      <td>-0.573759</td>\n",
       "      <td>0.216942</td>\n",
       "      <td>0.410476</td>\n",
       "      <td>-0.468165</td>\n",
       "      <td>-0.731083</td>\n",
       "      <td>-0.21693</td>\n",
       "      <td>-0.683398</td>\n",
       "      <td>-0.796236</td>\n",
       "      <td>-0.544166</td>\n",
       "      <td>44500</td>\n",
       "      <td>50923.031624</td>\n",
       "    </tr>\n",
       "    <tr>\n",
       "      <th>2</th>\n",
       "      <td>-0.205618</td>\n",
       "      <td>1.414799</td>\n",
       "      <td>-0.573759</td>\n",
       "      <td>0.216942</td>\n",
       "      <td>0.410476</td>\n",
       "      <td>-0.468165</td>\n",
       "      <td>-0.731083</td>\n",
       "      <td>-0.21693</td>\n",
       "      <td>-0.683398</td>\n",
       "      <td>-0.796236</td>\n",
       "      <td>-0.544166</td>\n",
       "      <td>50000</td>\n",
       "      <td>53985.763338</td>\n",
       "    </tr>\n",
       "    <tr>\n",
       "      <th>3</th>\n",
       "      <td>-0.545829</td>\n",
       "      <td>0.053533</td>\n",
       "      <td>-0.573759</td>\n",
       "      <td>0.216942</td>\n",
       "      <td>0.410476</td>\n",
       "      <td>-0.468165</td>\n",
       "      <td>1.367833</td>\n",
       "      <td>-0.21693</td>\n",
       "      <td>-0.683398</td>\n",
       "      <td>-0.796236</td>\n",
       "      <td>-0.544166</td>\n",
       "      <td>32500</td>\n",
       "      <td>54671.948597</td>\n",
       "    </tr>\n",
       "    <tr>\n",
       "      <th>4</th>\n",
       "      <td>-0.648433</td>\n",
       "      <td>-1.307733</td>\n",
       "      <td>-0.573759</td>\n",
       "      <td>0.216942</td>\n",
       "      <td>0.410476</td>\n",
       "      <td>2.136001</td>\n",
       "      <td>1.367833</td>\n",
       "      <td>-0.21693</td>\n",
       "      <td>-0.683398</td>\n",
       "      <td>-0.796236</td>\n",
       "      <td>-0.544166</td>\n",
       "      <td>55500</td>\n",
       "      <td>52729.891644</td>\n",
       "    </tr>\n",
       "  </tbody>\n",
       "</table>\n",
       "</div>"
      ],
      "text/plain": [
       "          0         1         2         3         4         5         6  \\\n",
       "0 -0.421625  0.053533 -0.573759  0.216942  0.410476 -0.468165 -0.731083   \n",
       "1 -0.610632  0.053533 -0.573759  0.216942  0.410476 -0.468165 -0.731083   \n",
       "2 -0.205618  1.414799 -0.573759  0.216942  0.410476 -0.468165 -0.731083   \n",
       "3 -0.545829  0.053533 -0.573759  0.216942  0.410476 -0.468165  1.367833   \n",
       "4 -0.648433 -1.307733 -0.573759  0.216942  0.410476  2.136001  1.367833   \n",
       "\n",
       "         7         8         9        10  y_test   Predictions  \n",
       "0 -0.21693 -0.683398  0.368668 -0.544166   70100  54637.195614  \n",
       "1 -0.21693 -0.683398 -0.796236 -0.544166   44500  50923.031624  \n",
       "2 -0.21693 -0.683398 -0.796236 -0.544166   50000  53985.763338  \n",
       "3 -0.21693 -0.683398 -0.796236 -0.544166   32500  54671.948597  \n",
       "4 -0.21693 -0.683398 -0.796236 -0.544166   55500  52729.891644  "
      ]
     },
     "execution_count": 46,
     "metadata": {},
     "output_type": "execute_result"
    }
   ],
   "source": [
    "y = pd.DataFrame(x_test)\n",
    "y['y_test'] = y_test\n",
    "y['Predictions'] = predictions\n",
    "y = y.reset_index(drop=True)\n",
    "y.head()"
   ]
  },
  {
   "cell_type": "code",
   "execution_count": 47,
   "id": "e44ef271",
   "metadata": {},
   "outputs": [
    {
     "data": {
      "text/html": [
       "<div>\n",
       "<style scoped>\n",
       "    .dataframe tbody tr th:only-of-type {\n",
       "        vertical-align: middle;\n",
       "    }\n",
       "\n",
       "    .dataframe tbody tr th {\n",
       "        vertical-align: top;\n",
       "    }\n",
       "\n",
       "    .dataframe thead tr th {\n",
       "        text-align: left;\n",
       "    }\n",
       "</style>\n",
       "<table border=\"1\" class=\"dataframe\">\n",
       "  <thead>\n",
       "    <tr>\n",
       "      <th></th>\n",
       "      <th>Area</th>\n",
       "      <th>Rooms</th>\n",
       "      <th>Bathroom</th>\n",
       "      <th>Floors</th>\n",
       "      <th>Driveway</th>\n",
       "      <th>Game_room</th>\n",
       "      <th>Cellar</th>\n",
       "      <th>Gas</th>\n",
       "      <th>Air</th>\n",
       "      <th>Garage</th>\n",
       "      <th>Situation</th>\n",
       "      <th>Price</th>\n",
       "      <th>Predictions</th>\n",
       "    </tr>\n",
       "  </thead>\n",
       "  <tbody>\n",
       "    <tr>\n",
       "      <th>0</th>\n",
       "      <td>-0.421625</td>\n",
       "      <td>0.053533</td>\n",
       "      <td>-0.573759</td>\n",
       "      <td>0.216942</td>\n",
       "      <td>0.410476</td>\n",
       "      <td>-0.468165</td>\n",
       "      <td>-0.731083</td>\n",
       "      <td>-0.21693</td>\n",
       "      <td>-0.683398</td>\n",
       "      <td>0.368668</td>\n",
       "      <td>-0.544166</td>\n",
       "      <td>70100</td>\n",
       "      <td>54637.195614</td>\n",
       "    </tr>\n",
       "    <tr>\n",
       "      <th>1</th>\n",
       "      <td>-0.610632</td>\n",
       "      <td>0.053533</td>\n",
       "      <td>-0.573759</td>\n",
       "      <td>0.216942</td>\n",
       "      <td>0.410476</td>\n",
       "      <td>-0.468165</td>\n",
       "      <td>-0.731083</td>\n",
       "      <td>-0.21693</td>\n",
       "      <td>-0.683398</td>\n",
       "      <td>-0.796236</td>\n",
       "      <td>-0.544166</td>\n",
       "      <td>44500</td>\n",
       "      <td>50923.031624</td>\n",
       "    </tr>\n",
       "    <tr>\n",
       "      <th>2</th>\n",
       "      <td>-0.205618</td>\n",
       "      <td>1.414799</td>\n",
       "      <td>-0.573759</td>\n",
       "      <td>0.216942</td>\n",
       "      <td>0.410476</td>\n",
       "      <td>-0.468165</td>\n",
       "      <td>-0.731083</td>\n",
       "      <td>-0.21693</td>\n",
       "      <td>-0.683398</td>\n",
       "      <td>-0.796236</td>\n",
       "      <td>-0.544166</td>\n",
       "      <td>50000</td>\n",
       "      <td>53985.763338</td>\n",
       "    </tr>\n",
       "    <tr>\n",
       "      <th>3</th>\n",
       "      <td>-0.545829</td>\n",
       "      <td>0.053533</td>\n",
       "      <td>-0.573759</td>\n",
       "      <td>0.216942</td>\n",
       "      <td>0.410476</td>\n",
       "      <td>-0.468165</td>\n",
       "      <td>1.367833</td>\n",
       "      <td>-0.21693</td>\n",
       "      <td>-0.683398</td>\n",
       "      <td>-0.796236</td>\n",
       "      <td>-0.544166</td>\n",
       "      <td>32500</td>\n",
       "      <td>54671.948597</td>\n",
       "    </tr>\n",
       "    <tr>\n",
       "      <th>4</th>\n",
       "      <td>-0.648433</td>\n",
       "      <td>-1.307733</td>\n",
       "      <td>-0.573759</td>\n",
       "      <td>0.216942</td>\n",
       "      <td>0.410476</td>\n",
       "      <td>2.136001</td>\n",
       "      <td>1.367833</td>\n",
       "      <td>-0.21693</td>\n",
       "      <td>-0.683398</td>\n",
       "      <td>-0.796236</td>\n",
       "      <td>-0.544166</td>\n",
       "      <td>55500</td>\n",
       "      <td>52729.891644</td>\n",
       "    </tr>\n",
       "  </tbody>\n",
       "</table>\n",
       "</div>"
      ],
      "text/plain": [
       "       Area     Rooms  Bathroom    Floors  Driveway Game_room    Cellar  \\\n",
       "0 -0.421625  0.053533 -0.573759  0.216942  0.410476 -0.468165 -0.731083   \n",
       "1 -0.610632  0.053533 -0.573759  0.216942  0.410476 -0.468165 -0.731083   \n",
       "2 -0.205618  1.414799 -0.573759  0.216942  0.410476 -0.468165 -0.731083   \n",
       "3 -0.545829  0.053533 -0.573759  0.216942  0.410476 -0.468165  1.367833   \n",
       "4 -0.648433 -1.307733 -0.573759  0.216942  0.410476  2.136001  1.367833   \n",
       "\n",
       "       Gas       Air    Garage Situation  Price   Predictions  \n",
       "0 -0.21693 -0.683398  0.368668 -0.544166  70100  54637.195614  \n",
       "1 -0.21693 -0.683398 -0.796236 -0.544166  44500  50923.031624  \n",
       "2 -0.21693 -0.683398 -0.796236 -0.544166  50000  53985.763338  \n",
       "3 -0.21693 -0.683398 -0.796236 -0.544166  32500  54671.948597  \n",
       "4 -0.21693 -0.683398 -0.796236 -0.544166  55500  52729.891644  "
      ]
     },
     "execution_count": 47,
     "metadata": {},
     "output_type": "execute_result"
    }
   ],
   "source": [
    "y.columns=[['Area', 'Rooms', 'Bathroom', 'Floors', 'Driveway', 'Game_room', 'Cellar', 'Gas', 'Air', 'Garage', 'Situation','Price','Predictions']]\n",
    "y.head()"
   ]
  },
  {
   "cell_type": "code",
   "execution_count": 48,
   "id": "c03fb72e",
   "metadata": {},
   "outputs": [],
   "source": [
    "y.to_csv('Regression_prediction.csv')"
   ]
  },
  {
   "cell_type": "code",
   "execution_count": null,
   "id": "6707ccd1",
   "metadata": {},
   "outputs": [],
   "source": []
  }
 ],
 "metadata": {
  "kernelspec": {
   "display_name": "Python 3",
   "language": "python",
   "name": "python3"
  },
  "language_info": {
   "codemirror_mode": {
    "name": "ipython",
    "version": 3
   },
   "file_extension": ".py",
   "mimetype": "text/x-python",
   "name": "python",
   "nbconvert_exporter": "python",
   "pygments_lexer": "ipython3",
   "version": "3.8.8"
  }
 },
 "nbformat": 4,
 "nbformat_minor": 5
}
